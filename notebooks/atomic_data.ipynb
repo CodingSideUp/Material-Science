{
 "cells": [
  {
   "cell_type": "code",
   "execution_count": 1,
   "metadata": {},
   "outputs": [
    {
     "name": "stdout",
     "output_type": "stream",
     "text": [
      "New columns added:\n",
      "['pbe_ddec_charge_mean', 'pbe_ddec_charge_median', 'pbe_ddec_charge_std', 'pbe_ddec_charge_q25', 'pbe_ddec_charge_q75', 'pbe_ddec_charge_max', 'pbe_ddec_charge_min', 'pbe_cm5_charge_mean', 'pbe_cm5_charge_median', 'pbe_cm5_charge_std', 'pbe_cm5_charge_q25', 'pbe_cm5_charge_q75', 'pbe_cm5_charge_max', 'pbe_cm5_charge_min', 'pbe_bader_charge_mean', 'pbe_bader_charge_median', 'pbe_bader_charge_std', 'pbe_bader_charge_q25', 'pbe_bader_charge_q75', 'pbe_bader_charge_max', 'pbe_bader_charge_min', 'pbe_ddec_spin_density_mean', 'pbe_ddec_spin_density_median', 'pbe_ddec_spin_density_std', 'pbe_ddec_spin_density_q25', 'pbe_ddec_spin_density_q75', 'pbe_ddec_spin_density_max', 'pbe_ddec_spin_density_min', 'pbe_bader_spin_density_mean', 'pbe_bader_spin_density_median', 'pbe_bader_spin_density_std', 'pbe_bader_spin_density_q25', 'pbe_bader_spin_density_q75', 'pbe_bader_spin_density_max', 'pbe_bader_spin_density_min', 'pbe_magmom_mean', 'pbe_magmom_median', 'pbe_magmom_std', 'pbe_magmom_q25', 'pbe_magmom_q75', 'pbe_magmom_max', 'pbe_magmom_min']\n"
     ]
    }
   ],
   "source": [
    "import json\n",
    "import pandas as pd\n",
    "import numpy as np\n",
    "\n",
    "# Paths to JSON and CSV\n",
    "STRUCT_JSON = \"qmof_structure_data.json\"  # atomic-level DFT site data\n",
    "MAIN_CSV    = \"qmof_joined_with_geometry.csv\"\n",
    "\n",
    "# Load main dataset\n",
    "df_main = pd.read_csv(MAIN_CSV, low_memory=False)\n",
    "\n",
    "# Initialize storage for aggregated descriptors\n",
    "agg_data = []\n",
    "\n",
    "# Load and aggregate JSON\n",
    "with open(STRUCT_JSON, 'r') as f:\n",
    "    data = json.load(f)  # List of dicts, one per qmof_id\n",
    "\n",
    "    for entry in data:\n",
    "        qmof_id = entry[\"qmof_id\"]\n",
    "        sites    = entry.get(\"structure\", {}).get(\"sites\", [])\n",
    "        # Collect per-atom DFT properties\n",
    "        # Keys under each site[\"properties\"] we want to aggregate:\n",
    "        props = [\n",
    "            \"pbe_ddec_charge\",\n",
    "            \"pbe_cm5_charge\",\n",
    "            \"pbe_bader_charge\",\n",
    "            \"pbe_ddec_spin_density\",\n",
    "            \"pbe_bader_spin_density\",\n",
    "            \"pbe_magmom\"\n",
    "        ]\n",
    "        # Build dict of lists\n",
    "        values = {p: [] for p in props}\n",
    "        for site in sites:\n",
    "            pr = site.get(\"properties\", {})\n",
    "            for p in props:\n",
    "                if p in pr:\n",
    "                    values[p].append(pr[p])\n",
    "\n",
    "        # Compute aggregations for each prop\n",
    "        row = {\"qmof_id\": qmof_id}\n",
    "        for p, lst in values.items():\n",
    "            arr = np.array(lst, dtype=float)\n",
    "            if arr.size > 0:\n",
    "                row[f\"{p}_mean\"]    = np.mean(arr)\n",
    "                row[f\"{p}_median\"]  = np.median(arr)\n",
    "                row[f\"{p}_std\"]     = np.std(arr)\n",
    "                row[f\"{p}_q25\"]     = np.percentile(arr, 25)\n",
    "                row[f\"{p}_q75\"]     = np.percentile(arr, 75)\n",
    "                row[f\"{p}_max\"]     = np.max(arr)\n",
    "                row[f\"{p}_min\"]     = np.min(arr)\n",
    "            else:\n",
    "                # No data for this MOF\n",
    "                for suffix in [\"mean\", \"median\", \"std\", \"q25\", \"q75\", \"max\", \"min\"]:\n",
    "                    row[f\"{p}_{suffix}\"] = np.nan\n",
    "        agg_data.append(row)\n",
    "\n",
    "# Convert to DataFrame\n",
    "df_agg = pd.DataFrame(agg_data)\n",
    "\n",
    "# Merge with main DataFrame on qmof_id\n",
    "df_merged = df_main.merge(df_agg, on=\"qmof_id\", how=\"left\")\n",
    "\n",
    "# Save to new CSV\n",
    "df_merged.to_csv(\"qmof_with_dft_aggregates.csv\", index=False)\n",
    "\n",
    "# Show resulting columns\n",
    "print(\"New columns added:\")\n",
    "print([c for c in df_agg.columns if c != \"qmof_id\"])\n"
   ]
  },
  {
   "cell_type": "code",
   "execution_count": null,
   "metadata": {},
   "outputs": [],
   "source": []
  }
 ],
 "metadata": {
  "kernelspec": {
   "display_name": "Python 3",
   "language": "python",
   "name": "python3"
  },
  "language_info": {
   "codemirror_mode": {
    "name": "ipython",
    "version": 3
   },
   "file_extension": ".py",
   "mimetype": "text/x-python",
   "name": "python",
   "nbconvert_exporter": "python",
   "pygments_lexer": "ipython3",
   "version": "3.12.1"
  }
 },
 "nbformat": 4,
 "nbformat_minor": 2
}
